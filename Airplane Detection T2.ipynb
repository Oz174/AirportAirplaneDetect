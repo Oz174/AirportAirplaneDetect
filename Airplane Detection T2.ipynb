{
 "cells": [
  {
   "cell_type": "code",
   "execution_count": 10,
   "id": "8a10d61c-aa25-48dd-9653-e3012a1bf00a",
   "metadata": {},
   "outputs": [],
   "source": [
    "from PIL import Image\n",
    "import numpy as np\n",
    "from IPython.display import Image"
   ]
  },
  {
   "cell_type": "code",
   "execution_count": 2,
   "id": "57570b10-94d9-4557-a6d6-b8d19373dc0a",
   "metadata": {},
   "outputs": [],
   "source": [
    "import warnings\n",
    "\n",
    "warnings.filterwarnings('ignore')"
   ]
  },
  {
   "cell_type": "code",
   "execution_count": 3,
   "id": "2e47d76b-c8ae-436f-ba84-858bd3f3c4bc",
   "metadata": {},
   "outputs": [],
   "source": [
    "from PIL import Image # I changed MAX_PIXEL_SIZE in Image.py (removed //4) \n",
    "im = np.asarray(Image.open(\"Cairo_Airport_2.tif\"))"
   ]
  },
  {
   "cell_type": "code",
   "execution_count": 4,
   "id": "f1abc45c-d4b5-4a19-ac42-c3ca5a7ae8a8",
   "metadata": {},
   "outputs": [
    {
     "data": {
      "text/plain": [
       "(15615, 24325, 3)"
      ]
     },
     "execution_count": 4,
     "metadata": {},
     "output_type": "execute_result"
    }
   ],
   "source": [
    "im.shape"
   ]
  },
  {
   "cell_type": "code",
   "execution_count": 20,
   "id": "6e69d9e3-4ff7-40fc-9f06-8c2efac3402a",
   "metadata": {},
   "outputs": [],
   "source": [
    "from sahi import AutoDetectionModel\n",
    "\n",
    "detection_model = AutoDetectionModel.from_pretrained(\n",
    "    model_type=\"yolov8\",\n",
    "    model_path='best.pt',\n",
    "    confidence_threshold=0.85,\n",
    "    device=\"cpu\",  # or 'cuda:0'\n",
    ")"
   ]
  },
  {
   "cell_type": "code",
   "execution_count": 21,
   "id": "942b02d0-115e-4400-82f9-e4e5e0f0524a",
   "metadata": {},
   "outputs": [
    {
     "name": "stdout",
     "output_type": "stream",
     "text": [
      "Performing prediction on 975 slices.\n"
     ]
    }
   ],
   "source": [
    "from sahi.predict import get_sliced_prediction\n",
    "\n",
    "result = get_sliced_prediction(\n",
    "    im,\n",
    "    detection_model,\n",
    "    slice_height=640,\n",
    "    slice_width=640,\n",
    "    overlap_height_ratio=0,\n",
    "    overlap_width_ratio=0,\n",
    ")"
   ]
  },
  {
   "cell_type": "code",
   "execution_count": 23,
   "id": "742e3c25-4660-46d2-93b1-f6b9aa613c13",
   "metadata": {},
   "outputs": [],
   "source": [
    "result.export_visuals(export_dir=\"demo_data/\")"
   ]
  },
  {
   "cell_type": "code",
   "execution_count": 22,
   "id": "0e1ca871-6f9c-4ded-ab9c-9577cb306b4e",
   "metadata": {},
   "outputs": [
    {
     "data": {
      "text/plain": [
       "[{'image_id': None,\n",
       "  'bbox': [14393.407806396484,\n",
       "   5609.270446777344,\n",
       "   99.8775634765625,\n",
       "   84.98883056640625],\n",
       "  'score': 0.9418585896492004,\n",
       "  'category_id': 0,\n",
       "  'category_name': '0',\n",
       "  'segmentation': [],\n",
       "  'iscrowd': 0,\n",
       "  'area': 8488},\n",
       " {'image_id': None,\n",
       "  'bbox': [13860.503143310547,\n",
       "   3919.6302947998047,\n",
       "   59.46392822265625,\n",
       "   58.11210632324219],\n",
       "  'score': 0.9409382939338684,\n",
       "  'category_id': 0,\n",
       "  'category_name': '0',\n",
       "  'segmentation': [],\n",
       "  'iscrowd': 0,\n",
       "  'area': 3455},\n",
       " {'image_id': None,\n",
       "  'bbox': [10387.966094970703,\n",
       "   8507.979888916016,\n",
       "   101.4329833984375,\n",
       "   86.94497680664062],\n",
       "  'score': 0.9321922659873962,\n",
       "  'category_id': 0,\n",
       "  'category_name': '0',\n",
       "  'segmentation': [],\n",
       "  'iscrowd': 0,\n",
       "  'area': 8819}]"
      ]
     },
     "execution_count": 22,
     "metadata": {},
     "output_type": "execute_result"
    }
   ],
   "source": [
    "result.to_coco_annotations()[:3]"
   ]
  },
  {
   "cell_type": "code",
   "execution_count": null,
   "id": "61253fb2-3474-497f-819b-028741e90974",
   "metadata": {},
   "outputs": [],
   "source": []
  }
 ],
 "metadata": {
  "kernelspec": {
   "display_name": "Python 3 (ipykernel)",
   "language": "python",
   "name": "python3"
  },
  "language_info": {
   "codemirror_mode": {
    "name": "ipython",
    "version": 3
   },
   "file_extension": ".py",
   "mimetype": "text/x-python",
   "name": "python",
   "nbconvert_exporter": "python",
   "pygments_lexer": "ipython3",
   "version": "3.10.13"
  }
 },
 "nbformat": 4,
 "nbformat_minor": 5
}
